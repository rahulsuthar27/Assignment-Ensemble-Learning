{
  "nbformat": 4,
  "nbformat_minor": 0,
  "metadata": {
    "colab": {
      "provenance": []
    },
    "kernelspec": {
      "name": "python3",
      "display_name": "Python 3"
    },
    "language_info": {
      "name": "python"
    }
  },
  "cells": [
    {
      "cell_type": "markdown",
      "source": [
        "# Assignment\n",
        "#Theoretical"
      ],
      "metadata": {
        "id": "w9FJ2WV68Oa9"
      }
    },
    {
      "cell_type": "markdown",
      "source": [
        "#1.Can we use Bagging for regression problems\n",
        "answ->Yes, Bagging can be used for regression problems.\n",
        "\n",
        "Bagging (Bootstrap Aggregating) is an ensemble learning technique that improves the accuracy of machine learning models by combining the predictions of multiple models. In regression problems, Bagging works by training multiple regression models on different subsets of the data and then averaging their predictions to get the final result. This helps to reduce variance and prevent overfitting.\n",
        "\n"
      ],
      "metadata": {
        "id": "uHijOZvgvLmo"
      }
    },
    {
      "cell_type": "markdown",
      "source": [
        "#2. What is the difference between multiple model training and single model training\n",
        "answ->The difference between multiple model training and single model training:\n",
        "\n",
        "Single Model Training:\n",
        "In this approach, only one machine learning model is trained on the entire dataset. The prediction is based only on this one model's understanding of the data. It is simple and fast but may not always give the best accuracy, especially with complex data.\n",
        "\n",
        "Multiple Model Training:\n",
        "In this approach, multiple models are trained, often on different subsets of data or using different algorithms. The final prediction is made by combining the outputs of all models (e.g., by averaging or voting). This method is more robust, reduces errors, and improves performance. Techniques like Bagging, Boosting, and Stacking use multiple models.\n",
        "\n"
      ],
      "metadata": {
        "id": "fde3r30IvLsw"
      }
    },
    {
      "cell_type": "markdown",
      "source": [
        "#.3 Explain the concept of feature randomness in Random Forest2\n",
        "answ->Feature Randomness in Random Forest:\n",
        "\n",
        "In a Random Forest, feature randomness means that when building each decision tree, the algorithm randomly selects a subset of features at each split instead of using all features. This is different from a regular decision tree, which considers all features to find the best split.\n",
        "\n",
        "This randomness helps in making each tree different and reduces correlation between the trees, which improves the overall performance and accuracy of the Random Forest model. It also helps to avoid overfitting.\n",
        "\n"
      ],
      "metadata": {
        "id": "cyDDF-OhvL3W"
      }
    },
    {
      "cell_type": "markdown",
      "source": [
        "#4.What is OOB (Out-of-Bag) Score\n",
        "answ->OOB (Out-of-Bag) Score:\n",
        "\n",
        "In Random Forest, the OOB (Out-of-Bag) score is a way to measure the model's performance without using a separate validation set.\n",
        "\n",
        "When training each tree, Random Forest uses a random sample of the data (with replacement). The data points not included in this sample are called out-of-bag samples. These OOB samples are then used to test the tree’s performance.\n",
        "\n",
        "The OOB score is the average accuracy (for classification) or error (for regression) calculated using all the OOB samples. It gives a good estimate of how well the model will perform on unseen data.\n",
        "\n"
      ],
      "metadata": {
        "id": "KBLURGBkvL_6"
      }
    },
    {
      "cell_type": "markdown",
      "source": [
        "#5.How can you measure the importance of features in a Random Forest model\n",
        "answ->Measuring Feature Importance in a Random Forest model:\n",
        "\n",
        "Random Forest can measure the importance of features by checking how much each feature contributes to improving the model’s accuracy.\n",
        "\n",
        "There are two common ways:\n",
        "\n",
        "Mean Decrease in Impurity (Gini Importance):\n",
        "It calculates how much each feature reduces impurity (like Gini or entropy) across all trees. Features that split the data better are considered more important.\n",
        "\n",
        "Mean Decrease in Accuracy (Permutation Importance):\n",
        "It checks the drop in model accuracy when a feature’s values are randomly shuffled. A big drop means the feature is important.\n",
        "\n",
        "These values help us understand which features are most useful for making predictions."
      ],
      "metadata": {
        "id": "U6GH_UtpvMG0"
      }
    },
    {
      "cell_type": "markdown",
      "source": [
        "#6.Explain the working principle of a Bagging Classifier\n",
        "answ->Working Principle of a Bagging Classifier:\n",
        "\n",
        "A Bagging Classifier (Bootstrap Aggregating) is an ensemble method that improves the performance and stability of machine learning models.\n",
        "\n",
        "Here’s how it works:\n",
        "\n",
        "Data Sampling:\n",
        "It creates multiple random samples (with replacement) from the original training dataset.\n",
        "\n",
        "Model Training:\n",
        "A separate classifier (like Decision Tree) is trained on each sample.\n",
        "\n",
        "Prediction:\n",
        "Each model makes its own prediction. For classification, the final output is decided by majority voting (the class that most models predict).\n",
        "\n",
        "Benefits:\n",
        "Bagging reduces variance, helps prevent overfitting, and improves accuracy."
      ],
      "metadata": {
        "id": "fOAiX69qvMKQ"
      }
    },
    {
      "cell_type": "markdown",
      "source": [
        "#7.How do you evaluate a Bagging Classifier’s performance\n",
        "answ->Evaluating a Bagging Classifier’s Performance:\n",
        "\n",
        "To evaluate the performance of a Bagging Classifier, we use the same methods as for other classification models:\n",
        "\n",
        "Accuracy Score:\n",
        "Measures the percentage of correct predictions.\n",
        "\n",
        "Confusion Matrix:\n",
        "Shows true positives, true negatives, false positives, and false negatives.\n",
        "\n",
        "Precision, Recall, and F1-Score:\n",
        "Useful for imbalanced datasets to understand model performance in more detail.\n",
        "\n",
        "ROC Curve and AUC Score:\n",
        "Used to evaluate the classifier’s ability to distinguish between classes.\n",
        "\n",
        "OOB (Out-of-Bag) Score:\n",
        "A special method in Bagging that uses the out-of-bag samples to estimate performance without needing a separate test set.\n",
        "\n",
        "\n"
      ],
      "metadata": {
        "id": "sIuGgTojvMN8"
      }
    },
    {
      "cell_type": "markdown",
      "source": [
        "#8.How does a Bagging Regressor work\n",
        "answ->How a Bagging Regressor Works:\n",
        "\n",
        "A Bagging Regressor is an ensemble method used for regression problems. It combines the predictions of several base regressors to improve accuracy and reduce overfitting.\n",
        "\n",
        "Working Steps:\n",
        "\n",
        "Data Sampling:\n",
        "It creates multiple random samples (with replacement) from the original training data.\n",
        "\n",
        "Model Training:\n",
        "A separate regression model (like Decision Tree Regressor) is trained on each sample.\n",
        "\n",
        "Prediction:\n",
        "Each model makes a prediction, and the final output is the average of all the predictions.\n",
        "\n",
        "Benefits:\n",
        "Bagging Regressor reduces variance, improves stability, and gives better performance on noisy datasets.\n",
        "\n"
      ],
      "metadata": {
        "id": "UNH4x3GMvMRM"
      }
    },
    {
      "cell_type": "markdown",
      "source": [
        "#9.What is the main advantage of ensemble techniques\n",
        "answ->Main Advantage of Ensemble Techniques:\n",
        "\n",
        "The main advantage of ensemble techniques is that they combine multiple models to produce a more accurate, stable, and robust prediction than any single model.\n",
        "\n",
        "By reducing errors like bias, variance, and overfitting, ensemble methods improve the overall performance of the machine learning model."
      ],
      "metadata": {
        "id": "Dy3ZAA2lvMVI"
      }
    },
    {
      "cell_type": "markdown",
      "source": [
        "#10.What is the main challenge of ensemble methods\n",
        "answ->Main Challenge of Ensemble Methods:\n",
        "\n",
        "The main challenge of ensemble methods is that they can be computationally expensive and time-consuming. Since they involve training multiple models, the process can require more memory, processing power, and longer training times, especially with large datasets.\n",
        "\n",
        "Additionally, combining models can sometimes make the system harder to interpret, reducing model interpretability."
      ],
      "metadata": {
        "id": "m5xknkDevMZQ"
      }
    },
    {
      "cell_type": "markdown",
      "source": [
        "#11.Explain the key idea behind ensemble techniques\n",
        "answ->Key Idea Behind Ensemble Techniques:\n",
        "\n",
        "The key idea behind ensemble techniques is to combine multiple weak learners (individual models) to create a stronger, more accurate model. Instead of relying on a single model, ensemble methods use the collective knowledge of multiple models to improve the overall performance.\n",
        "\n",
        "Ensemble techniques reduce the risk of errors by:\n",
        "\n",
        "Reducing variance (overfitting)\n",
        "\n",
        "Reducing bias (underfitting)\n",
        "\n",
        "Improving accuracy by aggregating the predictions from different models.\n",
        "\n",
        "Common ensemble methods include Bagging, Boosting, and Stacking.\n",
        "\n"
      ],
      "metadata": {
        "id": "kJY_4vDfvMdG"
      }
    },
    {
      "cell_type": "markdown",
      "source": [
        "#12.What is a Random Forest Classifier\n",
        "answ->What is a Random Forest Classifier?\n",
        "\n",
        "A Random Forest Classifier is an ensemble learning method that combines multiple decision trees to improve classification accuracy. It works by training a collection of decision trees on different subsets of the data and making predictions by majority voting.\n",
        "\n",
        "How it works:\n",
        "\n",
        "Bootstrap Sampling: Multiple subsets of data are created by sampling the training set with replacement (bootstrapping).\n",
        "\n",
        "Tree Building: Each subset is used to train an individual decision tree. Randomness is introduced by selecting a random subset of features for each split in the tree.\n",
        "\n",
        "Prediction: When making a prediction, each tree gives a class prediction, and the most common class (majority vote) is taken as the final output.\n",
        "\n",
        "Advantages:\n",
        "\n",
        "Handles overfitting better than a single decision tree.\n",
        "\n",
        "Works well for large datasets and is less prone to noise.\n",
        "\n"
      ],
      "metadata": {
        "id": "WKg4CNc1vMg6"
      }
    },
    {
      "cell_type": "markdown",
      "source": [
        "#13.What are the main types of ensemble techniques\n",
        "answ->Main Types of Ensemble Techniques:\n",
        "\n",
        "Bagging (Bootstrap Aggregating):\n",
        "Bagging aims to reduce variance by training multiple models (usually decision trees) on different bootstrapped samples of the data. Each model independently makes a prediction, and the final output is determined by averaging (for regression) or majority voting (for classification).\n",
        "Example: Random Forest is a popular bagging technique where each tree in the forest is trained on a random subset of the data, leading to diverse models that improve overall accuracy.\n",
        "\n",
        "Boosting:\n",
        "Boosting works by sequentially training models, where each new model focuses on the mistakes made by previous models. The idea is to reduce bias by emphasizing the misclassified points and gradually improving the model’s performance.\n",
        "Example: AdaBoost and Gradient Boosting are common boosting methods. In AdaBoost, each new model assigns higher weights to the incorrectly predicted instances, helping subsequent models focus on harder examples.\n",
        "\n",
        "Stacking (Stacked Generalization):\n",
        "Stacking involves training multiple different models (called base learners) and using their predictions as inputs for another model (meta-model), which makes the final prediction. This technique combines the strengths of different models to improve performance.\n",
        "Example: You might combine a decision tree, a logistic regression, and a neural network as base learners, with a simple model like a linear regression as the meta-model to predict the final outcome.\n",
        "\n",
        "These techniques differ in how they combine individual model predictions, but all aim to improve accuracy, reduce overfitting, or leverage multiple models to make better decisions. Let me know if you need further examples or clarification!"
      ],
      "metadata": {
        "id": "ejAheRmavMkl"
      }
    },
    {
      "cell_type": "markdown",
      "source": [
        "#14.What is ensemble learning in machine learning\n",
        "answ->Ensemble learning is a technique where multiple individual models (often called weak learners) are combined to create a stronger overall model. The main goal is to improve the model's accuracy, stability, and generalization compared to a single model.\n",
        "\n",
        "In ensemble learning, the idea is that combining the predictions from different models can lead to better results, as the individual errors of one model are often corrected by the others.\n",
        "\n",
        "Types of Ensemble Methods:\n",
        "\n",
        "Bagging (e.g., Random Forest)\n",
        "\n",
        "Boosting (e.g., AdaBoost, Gradient Boosting)\n",
        "\n",
        "Stacking (combining different models with a meta-model)"
      ],
      "metadata": {
        "id": "_RGyha97vMoo"
      }
    },
    {
      "cell_type": "markdown",
      "source": [
        "#15.When should we avoid using ensemble methods\n",
        "answ->When to Avoid Using Ensemble Methods:\n",
        "\n",
        "When the dataset is small:\n",
        "Ensemble methods are typically used to improve the accuracy of models, but they require a large amount of data to work effectively. If the dataset is too small, combining multiple models may lead to overfitting.\n",
        "\n",
        "When computational resources are limited:\n",
        "Ensemble methods, especially those involving many models (like Random Forest or Boosting), are computationally expensive. If you have limited memory, processing power, or time, using ensemble methods might not be feasible.\n",
        "\n",
        "When model interpretability is important:\n",
        "Ensemble methods like Random Forest or Boosting create complex models that are harder to interpret compared to single models like decision trees. If you need to explain the decision-making process of the model clearly, ensemble methods might not be the best choice.\n",
        "\n",
        "When a single model already performs well:\n",
        "If a single model (like a Decision Tree, SVM, or Logistic Regression) is already providing good results, there’s no need to add the complexity of ensemble methods. The added benefit may not justify the extra computation.\n",
        "\n",
        "Let me know if you'd like more details or examples!\n",
        "\n",
        "\n",
        "\n",
        "\n",
        "\n",
        "\n",
        "\n",
        "\n",
        "\n"
      ],
      "metadata": {
        "id": "TK-Sb-oPvMse"
      }
    },
    {
      "cell_type": "markdown",
      "source": [
        "#16.How does Bagging help in reducing overfitting\n",
        "answ->How Bagging Helps in Reducing Overfitting:\n",
        "\n",
        "Bagging (Bootstrap Aggregating) helps reduce overfitting by training multiple models (often decision trees) on different subsets of the data and then combining their predictions. The key ways it helps reduce overfitting are:\n",
        "\n",
        "Variance Reduction:\n",
        "By training multiple models on different data samples, bagging reduces the variance of the model. This makes the final model less sensitive to the noise and peculiarities in any one part of the dataset, which helps prevent overfitting.\n",
        "\n",
        "Averaging Predictions:\n",
        "In the case of regression, bagging averages the predictions of all the individual models. For classification, it uses majority voting. This averaging or voting helps smooth out the predictions and reduces the likelihood of the model fitting to random fluctuations in the data.\n",
        "\n",
        "Improved Stability:\n",
        "Bagging helps to make the model more stable by combining multiple learners that may have overfitted in isolation. This leads to a more generalizable model.\n",
        "\n",
        "\n"
      ],
      "metadata": {
        "id": "cGzgxjHRvMwU"
      }
    },
    {
      "cell_type": "markdown",
      "source": [
        "#17.Why is Random Forest better than a single Decision Tree\n",
        "answ->Random Forest is generally better than a single Decision Tree for the following reasons:\n",
        "\n",
        "Reduced Overfitting:\n",
        "A single decision tree tends to overfit the data, especially with complex datasets. Random Forest builds multiple decision trees on different subsets of the data and combines their predictions, which reduces overfitting and improves generalization.\n",
        "\n",
        "Higher Accuracy:\n",
        "Random Forest usually provides higher accuracy because it aggregates the predictions from multiple trees, reducing the impact of errors from individual trees.\n",
        "\n",
        "Better Handling of Variance:\n",
        "By averaging the predictions of many trees, Random Forest reduces variance, making the model more stable and robust against fluctuations in the data.\n",
        "\n",
        "Feature Randomness:\n",
        "Random Forest introduces randomness by selecting a random subset of features for each split in the trees. This prevents the model from relying too heavily on any one feature, making it more reliable and less prone to overfitting.\n",
        "\n",
        "Less Prone to Noisy Data:\n",
        "Random Forest is more resilient to noisy or outlier data since individual trees are trained on different samples, and their errors are averaged out in the final prediction.\n",
        "\n"
      ],
      "metadata": {
        "id": "1J-uStQgvMz4"
      }
    },
    {
      "cell_type": "markdown",
      "source": [
        "#18.What is the role of bootstrap sampling in Bagging\n",
        "answ->Role of Bootstrap Sampling in Bagging:\n",
        "\n",
        "In Bagging (Bootstrap Aggregating), bootstrap sampling plays a crucial role by creating multiple random subsets of the data with replacement. This means that each subset used to train a model is sampled randomly from the original dataset, but the same data point can appear multiple times in the same subset.\n",
        "\n",
        "How it helps:\n",
        "\n",
        "Diversity of Models:\n",
        "By training each model on a different bootstrap sample, Bagging ensures that each model sees slightly different data, leading to a diverse set of models. This diversity improves the overall performance when the predictions are aggregated.\n",
        "\n",
        "Reducing Overfitting:\n",
        "Bootstrap sampling reduces the risk of overfitting because it allows each model to focus on different aspects of the data. The final prediction, made by averaging (for regression) or voting (for classification), helps smooth out individual model errors.\n",
        "\n",
        "Variance Reduction:\n",
        "Since each model is trained on different data points, the predictions are less sensitive to small variations in the training data, which leads to reduced variance in the final prediction.\n",
        "\n"
      ],
      "metadata": {
        "id": "Krc9XJssvM3e"
      }
    },
    {
      "cell_type": "markdown",
      "source": [
        "#19.What are some real-world applications of ensemble techniques\n",
        "answ->Real-World Applications of Ensemble Techniques:\n",
        "\n",
        "Ensemble techniques are widely used in various fields due to their ability to improve model accuracy and robustness. Some real-world applications include:\n",
        "\n",
        "Financial Sector (Credit Scoring and Fraud Detection):\n",
        "Ensemble methods like Random Forest and Boosting are used to predict credit scores, detect fraudulent transactions, and identify high-risk clients by combining multiple decision trees for more accurate risk assessments.\n",
        "\n",
        "Healthcare (Disease Diagnosis):\n",
        "In medical diagnostics, ensemble methods are used to predict diseases based on patient data. For example, Boosting algorithms are used in cancer detection by combining the results of multiple classifiers to improve detection rates.\n",
        "\n",
        "E-commerce (Recommendation Systems):\n",
        "Companies like Amazon and Netflix use ensemble techniques to recommend products or movies to users based on their preferences. Combining multiple models helps make better predictions and improves user experience.\n",
        "\n",
        "Image Recognition (Computer Vision):\n",
        "In image classification tasks (like facial recognition or object detection), ensemble methods like Bagging and Boosting improve the accuracy by combining multiple models to handle different variations in images (lighting, angles, etc.).\n",
        "\n",
        "Natural Language Processing (Sentiment Analysis):\n",
        "Ensemble methods are used to analyze text data, such as sentiment analysis on social media or customer feedback. By combining models, the system can better understand and predict the sentiment of a text.\n",
        "\n",
        "Sports Analytics (Player Performance Prediction):\n",
        "In sports analytics, ensemble techniques help predict player performance, injury risks, and match outcomes by aggregating results from different predictive models."
      ],
      "metadata": {
        "id": "tb6fPMQvvM6w"
      }
    },
    {
      "cell_type": "markdown",
      "source": [
        "#20.What is the difference between Bagging and Boosting?\n",
        "answ->Difference Between Bagging and Boosting:\n",
        "\n",
        "Model Training Approach:\n",
        "\n",
        "Bagging (Bootstrap Aggregating):\n",
        "In Bagging, multiple models are trained independently on different subsets of the data (created through bootstrap sampling). Each model has equal weight when making predictions. The final prediction is obtained by averaging (for regression) or majority voting (for classification).\n",
        "\n",
        "Boosting:\n",
        "In Boosting, models are trained sequentially, where each new model corrects the errors made by the previous models. The models focus on the misclassified data points, and each subsequent model gives more weight to these points. The final prediction is a weighted average or weighted vote from all the models.\n",
        "\n",
        "Goal:\n",
        "\n",
        "Bagging:\n",
        "The goal of Bagging is to reduce variance and avoid overfitting by averaging predictions from multiple models.\n",
        "\n",
        "Boosting:\n",
        "The goal of Boosting is to reduce bias by improving model accuracy through focusing on harder-to-predict examples.\n",
        "\n",
        "Model Independence:\n",
        "\n",
        "Bagging:\n",
        "Models are trained independently, and each model contributes equally to the final prediction.\n",
        "\n",
        "Boosting:\n",
        "Models are dependent on one another, as each new model is built to correct the mistakes of previous ones.\n",
        "\n",
        "Performance:\n",
        "\n",
        "Bagging:\n",
        "Bagging works well when the base models have high variance (e.g., Decision Trees), as it helps reduce overfitting and improve stability.\n",
        "\n",
        "Boosting:\n",
        "Boosting tends to outperform Bagging when the base models have high bias, as it focuses on improving weak models by correcting errors iteratively.\n",
        "\n",
        "Parallelism:\n",
        "\n",
        "Bagging:\n",
        "Models can be trained in parallel because they are independent of each other.\n",
        "\n",
        "Boosting:\n",
        "Models are trained sequentially, meaning boosting cannot be easily parallelized.\n",
        "\n"
      ],
      "metadata": {
        "id": "0YytcUqZvM-Q"
      }
    },
    {
      "cell_type": "markdown",
      "source": [
        "# Practical"
      ],
      "metadata": {
        "id": "H7tLO1KV8MGC"
      }
    },
    {
      "cell_type": "code",
      "source": [
        "#21.# Importing necessary libraries\n",
        "from sklearn.ensemble import BaggingClassifier\n",
        "from sklearn.tree import DecisionTreeClassifier\n",
        "from sklearn.datasets import load_iris\n",
        "from sklearn.model_selection import train_test_split\n",
        "from sklearn.metrics import accuracy_score\n",
        "\n",
        "data = load_iris()\n",
        "X = data.data\n",
        "y = data.target\n",
        "\n",
        "X_train, X_test, y_train, y_test = train_test_split(X, y, test_size=0.3, random_state=42)\n",
        "base_model = DecisionTreeClassifier()\n",
        "\n",
        "bagging_model = BaggingClassifier(base_model, n_estimators=100, random_state=42)\n",
        "\n",
        "bagging_model.fit(X_train, y_train)\n",
        "y_pred = bagging_model.predict(X_test)\n",
        "accuracy = accuracy_score(y_test, y_pred)\n",
        "\n",
        "print(f\"Model Accuracy: {accuracy * 100:.2f}%\")\n"
      ],
      "metadata": {
        "colab": {
          "base_uri": "https://localhost:8080/"
        },
        "id": "lKhHP3HyyTVG",
        "outputId": "dc50387f-e633-473e-ff41-0f8a94de1704"
      },
      "execution_count": 1,
      "outputs": [
        {
          "output_type": "stream",
          "name": "stdout",
          "text": [
            "Model Accuracy: 100.00%\n"
          ]
        }
      ]
    },
    {
      "cell_type": "code",
      "source": [
        "#22.Train a Bagging Regressor using Decision Trees and evaluate using Mean Squared Error (MSE)\n",
        "from sklearn.ensemble import BaggingRegressor\n",
        "from sklearn.tree import DecisionTreeRegressor\n",
        "from sklearn.datasets import load_diabetes\n",
        "from sklearn.model_selection import train_test_split\n",
        "from sklearn.metrics import mean_squared_error\n",
        "\n",
        "data = load_diabetes()\n",
        "X = data.data\n",
        "y = data.target\n",
        "\n",
        "X_train, X_test, y_train, y_test = train_test_split(X, y, test_size=0.3, random_state=42)\n",
        "\n",
        "base_model = DecisionTreeRegressor()\n",
        "bagging_model = BaggingRegressor(base_model, n_estimators=100, random_state=42)\n",
        "\n",
        "bagging_model.fit(X_train, y_train)\n",
        "y_pred = bagging_model.predict(X_test)\n",
        "\n",
        "mse = mean_squared_error(y_test, y_pred)\n",
        "print(f\"Mean Squared Error: {mse:.2f}\")\n"
      ],
      "metadata": {
        "colab": {
          "base_uri": "https://localhost:8080/"
        },
        "id": "Tv8Chjo1yTYS",
        "outputId": "cdb503d1-14e8-49e1-8790-a98a7164708a"
      },
      "execution_count": 3,
      "outputs": [
        {
          "output_type": "stream",
          "name": "stdout",
          "text": [
            "Mean Squared Error: 2908.81\n"
          ]
        }
      ]
    },
    {
      "cell_type": "code",
      "source": [
        "#23.Train a Random Forest Classifier on the Breast Cancer dataset and print feature importance scores\n",
        "from sklearn.ensemble import RandomForestClassifier\n",
        "from sklearn.datasets import load_breast_cancer\n",
        "from sklearn.model_selection import train_test_split\n",
        "\n",
        "data = load_breast_cancer()\n",
        "X = data.data\n",
        "y = data.target\n",
        "\n",
        "X_train, X_test, y_train, y_test = train_test_split(X, y, test_size=0.3, random_state=42)\n",
        "\n",
        "rf_model = RandomForestClassifier(n_estimators=100, random_state=42)\n",
        "rf_model.fit(X_train, y_train)\n",
        "\n",
        "feature_importance = rf_model.feature_importances_\n",
        "print(f\"Feature Importance Scores: {feature_importance}\")\n"
      ],
      "metadata": {
        "colab": {
          "base_uri": "https://localhost:8080/"
        },
        "id": "wY8xLKofyTbD",
        "outputId": "c40a4037-f5f5-4b7c-8c08-727219d97cc3"
      },
      "execution_count": 4,
      "outputs": [
        {
          "output_type": "stream",
          "name": "stdout",
          "text": [
            "Feature Importance Scores: [0.03231189 0.0110639  0.06009233 0.05381045 0.00622336 0.00921566\n",
            " 0.08055702 0.14193444 0.00327807 0.00314028 0.01643496 0.00317191\n",
            " 0.01176976 0.02953842 0.00588079 0.00459638 0.0058159  0.00338232\n",
            " 0.00400077 0.00713457 0.07797475 0.01878567 0.07429212 0.11821686\n",
            " 0.01176917 0.01753909 0.04107958 0.12713638 0.01292945 0.00692376]\n"
          ]
        }
      ]
    },
    {
      "cell_type": "code",
      "source": [
        "#24.Train a Random Forest Regressor and compare its performance with a single Decision Tree\n",
        "from sklearn.ensemble import RandomForestRegressor\n",
        "from sklearn.tree import DecisionTreeRegressor\n",
        "from sklearn.datasets import load_diabetes\n",
        "from sklearn.model_selection import train_test_split\n",
        "from sklearn.metrics import mean_squared_error\n",
        "\n",
        "data = load_diabetes()\n",
        "X = data.data\n",
        "y = data.target\n",
        "\n",
        "X_train, X_test, y_train, y_test = train_test_split(X, y, test_size=0.3, random_state=42)\n",
        "\n",
        "rf_model = RandomForestRegressor(n_estimators=100, random_state=42)\n",
        "rf_model.fit(X_train, y_train)\n",
        "rf_pred = rf_model.predict(X_test)\n",
        "rf_mse = mean_squared_error(y_test, rf_pred)\n",
        "\n",
        "dt_model = DecisionTreeRegressor(random_state=42)\n",
        "dt_model.fit(X_train, y_train)\n",
        "dt_pred = dt_model.predict(X_test)\n",
        "dt_mse =mean_squared_error(y_test, dt_pred)\n",
        "\n",
        "print(f\"Random Forest Regressor MSE: {rf_mse:.2f}\")\n",
        "print(f\"Decision Tree Regressor MSE: {dt_mse:.2f}\")"
      ],
      "metadata": {
        "colab": {
          "base_uri": "https://localhost:8080/"
        },
        "id": "lpLj_YSDyTeD",
        "outputId": "7cec3285-68e0-4bfe-a070-0a820639a3be"
      },
      "execution_count": 7,
      "outputs": [
        {
          "output_type": "stream",
          "name": "stdout",
          "text": [
            "Random Forest Regressor MSE: 2859.64\n",
            "Decision Tree Regressor MSE: 5697.79\n"
          ]
        }
      ]
    },
    {
      "cell_type": "code",
      "source": [
        "#25.Compute the Out-of-Bag (OOB) Score for a Random Forest Classifier\n",
        "rf_model = RandomForestClassifier(n_estimators=100, oob_score=True, random_state=42)\n",
        "rf_model.fit(X_train, y_train)\n",
        "\n",
        "oob_score = rf_model.oob_score_\n",
        "print(f\"Out-of-Bag Score: {oob_score:.2f}\")\n"
      ],
      "metadata": {
        "colab": {
          "base_uri": "https://localhost:8080/"
        },
        "id": "kl3N-OdqyTg4",
        "outputId": "9f7a2eb3-2c31-40f4-bd81-c12efa7ed992"
      },
      "execution_count": 8,
      "outputs": [
        {
          "output_type": "stream",
          "name": "stdout",
          "text": [
            "Out-of-Bag Score: 0.01\n"
          ]
        }
      ]
    },
    {
      "cell_type": "code",
      "source": [
        "#26.Train a Bagging Classifier using SVM as a base estimator and print accuracy\n",
        "from sklearn.svm import SVC\n",
        "from sklearn.ensemble import BaggingClassifier\n",
        "from sklearn.datasets import load_iris\n",
        "from sklearn.model_selection import train_test_split\n",
        "from sklearn.metrics import accuracy_score\n",
        "data = load_iris()\n",
        "X = data.data\n",
        "y = data.target\n",
        "X_train, X_test, y_train, y_test = train_test_split(X, y, test_size=0.3, random_state=42)\n",
        "\n",
        "\n",
        "base_model = SVC(probability=True)\n",
        "bagging_model = BaggingClassifier(base_model, n_estimators=100, random_state=42)\n",
        "bagging_model.fit(X_train, y_train)\n",
        "y_pred = bagging_model.predict(X_test)\n",
        "\n",
        "accuracy = accuracy_score(y_test, y_pred)\n",
        "print(f\"Model Accuracy: {accuracy * 100:.2f}%\")\n"
      ],
      "metadata": {
        "colab": {
          "base_uri": "https://localhost:8080/"
        },
        "id": "xoR6C0afyTjJ",
        "outputId": "55c53f92-5c08-4c49-fd7f-94a4c29d1925"
      },
      "execution_count": 11,
      "outputs": [
        {
          "output_type": "stream",
          "name": "stdout",
          "text": [
            "Model Accuracy: 100.00%\n"
          ]
        }
      ]
    },
    {
      "cell_type": "code",
      "source": [
        "#27.Train a Random Forest Classifier with different numbers of trees and compare accuracy\n",
        "rf_model_10 = RandomForestClassifier(n_estimators=10, random_state=42)\n",
        "rf_model_50 = RandomForestClassifier(n_estimators=50, random_state=42)\n",
        "rf_model_100 = RandomForestClassifier(n_estimators=100, random_state=42)\n",
        "\n",
        "rf_model_10.fit(X_train, y_train)\n",
        "rf_model_50.fit(X_train, y_train)\n",
        "rf_model_100.fit(X_train, y_train)\n",
        "\n",
        "y_pred_10 = rf_model_10.predict(X_test)\n",
        "y_pred_50 = rf_model_50.predict(X_test)\n",
        "y_pred_100 = rf_model_100.predict(X_test)\n",
        "\n",
        "accuracy_10 = accuracy_score(y_test, y_pred_10)\n",
        "accuracy_50 = accuracy_score(y_test, y_pred_50)\n",
        "accuracy_100 = accuracy_score(y_test, y_pred_100)\n",
        "\n",
        "print(f\"Accuracy with 10 trees: {accuracy_10 * 100:.2f}%\")\n",
        "print(f\"Accuracy with 50 trees: {accuracy_50 * 100:.2f}%\")\n",
        "print(f\"Accuracy with 100 trees: {accuracy_100 * 100:.2f}%\")\n"
      ],
      "metadata": {
        "colab": {
          "base_uri": "https://localhost:8080/"
        },
        "id": "UOdRY-uryTmd",
        "outputId": "9473f4b2-87cf-42f3-9656-9bf6294d5ae4"
      },
      "execution_count": 12,
      "outputs": [
        {
          "output_type": "stream",
          "name": "stdout",
          "text": [
            "Accuracy with 10 trees: 100.00%\n",
            "Accuracy with 50 trees: 100.00%\n",
            "Accuracy with 100 trees: 100.00%\n"
          ]
        }
      ]
    },
    {
      "cell_type": "code",
      "source": [
        "#28.Train a Bagging Classifier using Logistic Regression as a base estimator and print AUC score\n",
        "from sklearn.linear_model import LogisticRegression\n",
        "from sklearn.ensemble import BaggingClassifier\n",
        "from sklearn.datasets import load_iris\n",
        "from sklearn.model_selection import train_test_split\n",
        "from sklearn.metrics import roc_auc_score\n",
        "from sklearn.preprocessing import label_binarize\n",
        "\n",
        "data = load_iris()\n",
        "X = data.data\n",
        "y = data.target\n",
        "\n",
        "X_train, X_test, y_train, y_test = train_test_split(X, y, test_size=0.3, random_state=42)\n",
        "\n",
        "base_model = LogisticRegression(max_iter=1000)\n",
        "bagging_model = BaggingClassifier(base_model, n_estimators=100, random_state=42)\n",
        "\n",
        "bagging_model.fit(X_train, y_train)\n",
        "y_pred = bagging_model.predict_proba(X_test)\n",
        "\n",
        "y_test_bin = label_binarize(y_test, classes=[0, 1, 2])  # Binarizing for multi-class classification\n",
        "auc_score = roc_auc_score(y_test_bin, y_pred, average=\"macro\", multi_class=\"ovr\")\n",
        "\n",
        "print(f\"AUC Score: {auc_score:.2f}\")\n"
      ],
      "metadata": {
        "colab": {
          "base_uri": "https://localhost:8080/"
        },
        "id": "gu_zvUofyTpI",
        "outputId": "5acd36f6-a1f4-4331-b8d1-048356f1058a"
      },
      "execution_count": 13,
      "outputs": [
        {
          "output_type": "stream",
          "name": "stdout",
          "text": [
            "AUC Score: 1.00\n"
          ]
        }
      ]
    },
    {
      "cell_type": "code",
      "source": [
        "#29.Train a Random Forest Regressor and analyze feature importance scores\n",
        "rf_model = RandomForestRegressor(n_estimators=100, random_state=42)\n",
        "rf_model.fit(X_train, y_train)\n",
        "\n",
        "feature_importance = rf_model.feature_importances_\n",
        "print(f\"Feature Importance Scores: {feature_importance}\")\n"
      ],
      "metadata": {
        "colab": {
          "base_uri": "https://localhost:8080/"
        },
        "id": "zYtJtAryyTrw",
        "outputId": "d32f43e8-d49a-4dc0-f275-7d8564b819b0"
      },
      "execution_count": 14,
      "outputs": [
        {
          "output_type": "stream",
          "name": "stdout",
          "text": [
            "Feature Importance Scores: [0.00729855 0.01019393 0.48828401 0.49422351]\n"
          ]
        }
      ]
    },
    {
      "cell_type": "code",
      "source": [
        "#30.Train an ensemble model using both Bagging and Random Forest and compare accuracy\n",
        "bagging_model = BaggingClassifier(base_model, n_estimators=100, random_state=42)\n",
        "rf_model = RandomForestClassifier(n_estimators=100, random_state=42)\n",
        "\n",
        "bagging_model.fit(X_train, y_train)\n",
        "rf_model.fit(X_train, y_train)\n",
        "\n",
        "y_pred_bagging = bagging_model.predict(X_test)\n",
        "y_pred_rf = rf_model.predict(X_test)\n",
        "\n",
        "accuracy_bagging = accuracy_score(y_test, y_pred_bagging)\n",
        "accuracy_rf = accuracy_score(y_test, y_pred_rf)\n",
        "\n",
        "print(f\"Accuracy with Bagging: {accuracy_bagging * 100:.2f}%\")\n",
        "print(f\"Accuracy with Random Forest: {accuracy_rf * 100:.2f}%\")\n"
      ],
      "metadata": {
        "colab": {
          "base_uri": "https://localhost:8080/"
        },
        "id": "Vnj0q58HyTuY",
        "outputId": "89f22d4e-4b42-49a0-c1a2-d06066a3e3b0"
      },
      "execution_count": 15,
      "outputs": [
        {
          "output_type": "stream",
          "name": "stdout",
          "text": [
            "Accuracy with Bagging: 100.00%\n",
            "Accuracy with Random Forest: 100.00%\n"
          ]
        }
      ]
    },
    {
      "cell_type": "code",
      "source": [
        "#31.Train a Random Forest Classifier and tune hyperparameters using GridSearchCV\n",
        "from sklearn.model_selection import GridSearchCV, train_test_split\n",
        "from sklearn.ensemble import RandomForestClassifier\n",
        "from sklearn.datasets import load_iris\n",
        "\n",
        "data = load_iris()\n",
        "X = data.data\n",
        "y = data.target\n",
        "\n",
        "X_train, X_test, y_train, y_test = train_test_split(X, y, test_size=0.3, random_state=42)\n",
        "rf_model = RandomForestClassifier(random_state=42)\n",
        "\n",
        "param_grid = {\n",
        "    'n_estimators': [50, 100, 200],\n",
        "    'max_depth': [None, 10, 20, 30],\n",
        "    'min_samples_split': [2, 5, 10],\n",
        "    'min_samples_leaf': [1, 2, 4]\n",
        "}\n",
        "\n",
        "grid_search = GridSearchCV(estimator=rf_model, param_grid=param_grid, cv=5, scoring='accuracy', n_jobs=-1, verbose=2)\n",
        "\n",
        "grid_search.fit(X_train, y_train)\n",
        "\n",
        "best_params = grid_search.best_params_\n",
        "best_score = grid_search.best_score_\n",
        "\n",
        "print(f\"Best Hyperparameters: {best_params}\")\n",
        "print(f\"Best Cross-Validation Accuracy: {best_score * 100:.2f}%\")\n"
      ],
      "metadata": {
        "colab": {
          "base_uri": "https://localhost:8080/"
        },
        "id": "eApwmFPTyTw1",
        "outputId": "04b4db25-aaf9-4ae8-ba80-a2c1a661030b"
      },
      "execution_count": 6,
      "outputs": [
        {
          "output_type": "stream",
          "name": "stdout",
          "text": [
            "Fitting 5 folds for each of 108 candidates, totalling 540 fits\n",
            "Best Hyperparameters: {'max_depth': None, 'min_samples_leaf': 1, 'min_samples_split': 2, 'n_estimators': 100}\n",
            "Best Cross-Validation Accuracy: 94.29%\n"
          ]
        }
      ]
    },
    {
      "cell_type": "code",
      "source": [
        "#32.Train a Bagging Regressor with different numbers of base estimators and compare performance\n",
        "from sklearn.ensemble import BaggingRegressor\n",
        "from sklearn.metrics import mean_squared_error\n",
        "\n",
        "bagging_model_10 = BaggingRegressor(n_estimators=10, random_state=42)\n",
        "bagging_model_50 = BaggingRegressor(n_estimators=50, random_state=42)\n",
        "bagging_model_100 = BaggingRegressor(n_estimators=100, random_state=42)\n",
        "\n",
        "bagging_model_10.fit(X_train, y_train)\n",
        "bagging_model_50.fit(X_train, y_train)\n",
        "bagging_model_100.fit(X_train, y_train)\n",
        "\n",
        "y_pred_10 = bagging_model_10.predict(X_test)\n",
        "y_pred_50 = bagging_model_50.predict(X_test)\n",
        "y_pred_100 = bagging_model_100.predict(X_test)\n",
        "\n",
        "mse_10 = mean_squared_error(y_test, y_pred_10)\n",
        "mse_50 = mean_squared_error(y_test, y_pred_50)\n",
        "mse_100 = mean_squared_error(y_test, y_pred_100)\n",
        "\n",
        "print(f\"Mean Squared Error with 10 estimators: {mse_10:.2f}\")\n",
        "print(f\"Mean Squared Error with 50 estimators: {mse_50:.2f}\")\n",
        "print(f\"Mean Squared Error with 100 estimators: {mse_100:.2f}\")\n",
        "\n"
      ],
      "metadata": {
        "colab": {
          "base_uri": "https://localhost:8080/"
        },
        "id": "qWwlWx7LyTzu",
        "outputId": "bf63c994-8aff-483c-d414-98e790311a2b"
      },
      "execution_count": 8,
      "outputs": [
        {
          "output_type": "stream",
          "name": "stdout",
          "text": [
            "Mean Squared Error with 10 estimators: 0.00\n",
            "Mean Squared Error with 50 estimators: 0.00\n",
            "Mean Squared Error with 100 estimators: 0.00\n"
          ]
        }
      ]
    },
    {
      "cell_type": "code",
      "source": [
        "#33.Train a Random Forest Classifier and analyze misclassified samples\n",
        "from sklearn.ensemble import RandomForestClassifier\n",
        "from sklearn.metrics import confusion_matrix\n",
        "import numpy as np\n",
        "rf_model = RandomForestClassifier(random_state=42)\n",
        "rf_model.fit(X_train, y_train)\n",
        "y_pred = rf_model.predict(X_test)\n",
        "cm = confusion_matrix(y_test, y_pred)\n",
        "\n",
        "misclassified_samples = np.where(y_pred != y_test)[0]\n",
        "\n",
        "print(f\"Confusion Matrix:\\n{cm}\")\n",
        "print(f\"Misclassified Samples Indices: {misclassified_samples}\")\n"
      ],
      "metadata": {
        "colab": {
          "base_uri": "https://localhost:8080/"
        },
        "id": "3AL12rZAyT2g",
        "outputId": "04476cb6-ac09-4839-a0e7-b6a1ae01c210"
      },
      "execution_count": 9,
      "outputs": [
        {
          "output_type": "stream",
          "name": "stdout",
          "text": [
            "Confusion Matrix:\n",
            "[[19  0  0]\n",
            " [ 0 13  0]\n",
            " [ 0  0 13]]\n",
            "Misclassified Samples Indices: []\n"
          ]
        }
      ]
    },
    {
      "cell_type": "code",
      "source": [
        "#34.Train a Bagging Classifier and compare its performance with a single Decision Tree Classifier\n",
        "from sklearn.tree import DecisionTreeClassifier\n",
        "from sklearn.ensemble import BaggingClassifier\n",
        "from sklearn.metrics import accuracy_score\n",
        "\n",
        "dt_model = DecisionTreeClassifier(random_state=42)\n",
        "dt_model.fit(X_train, y_train)\n",
        "y_pred_dt = dt_model.predict(X_test)\n",
        "\n",
        "\n",
        "bagging_model = BaggingClassifier(DecisionTreeClassifier(), n_estimators=100, random_state=42)\n",
        "bagging_model.fit(X_train, y_train)\n",
        "y_pred_bagging = bagging_model.predict(X_test)\n",
        "\n",
        "accuracy_dt = accuracy_score(y_test, y_pred_dt)\n",
        "accuracy_bagging = accuracy_score(y_test, y_pred_bagging)\n",
        "\n",
        "print(f\"Accuracy with Decision Tree Classifier: {accuracy_dt * 100:.2f}%\")\n",
        "print(f\"Accuracy with Bagging Classifier: {accuracy_bagging * 100:.2f}%\")\n",
        "\n"
      ],
      "metadata": {
        "colab": {
          "base_uri": "https://localhost:8080/"
        },
        "id": "r6GydSvXyT5L",
        "outputId": "8f9b353f-c68f-4243-dba9-7bf8782fb343"
      },
      "execution_count": 11,
      "outputs": [
        {
          "output_type": "stream",
          "name": "stdout",
          "text": [
            "Accuracy with Decision Tree Classifier: 100.00%\n",
            "Accuracy with Bagging Classifier: 100.00%\n"
          ]
        }
      ]
    },
    {
      "cell_type": "code",
      "source": [
        "#35.Train a Random Forest Classifier and visualize the confusion matrix\n",
        "import seaborn as sns\n",
        "import matplotlib.pyplot as plt\n",
        "from sklearn.ensemble import RandomForestClassifier\n",
        "from sklearn.metrics import confusion_matrix\n",
        "\n",
        "rf_model = RandomForestClassifier(random_state=42)\n",
        "rf_model.fit(X_train, y_train)\n",
        "\n",
        "y_pred = rf_model.predict(X_test)\n",
        "\n",
        "cm = confusion_matrix(y_test, y_pred)\n",
        "\n",
        "plt.figure(figsize=(8, 6))\n",
        "sns.heatmap(cm, annot=True, fmt=\"d\", cmap=\"Blues\", xticklabels=data.target_names, yticklabels=data.target_names)\n",
        "plt.title(\"Confusion Matrix for Random Forest Classifier\")\n",
        "plt.xlabel(\"Predicted Label\")\n",
        "plt.ylabel(\"True Label\")\n",
        "plt.show()\n"
      ],
      "metadata": {
        "colab": {
          "base_uri": "https://localhost:8080/",
          "height": 564
        },
        "id": "MbN0H99XyT8S",
        "outputId": "da4538bd-0f9e-4d3f-90cf-4d40a63f3f9c"
      },
      "execution_count": 12,
      "outputs": [
        {
          "output_type": "display_data",
          "data": {
            "text/plain": [
              "<Figure size 800x600 with 2 Axes>"
            ],
            "image/png": "[encoded data removed]"
          },
          "metadata": {}
        }
      ]
    },
    {
      "cell_type": "code",
      "source": [
        "#36.Train a Stacking Classifier using Decision Trees, SVM, and Logistic Regression, and compare accuracy\n",
        "from sklearn.ensemble import StackingClassifier\n",
        "from sklearn.tree import DecisionTreeClassifier\n",
        "from sklearn.svm import SVC\n",
        "from sklearn.linear_model import LogisticRegression\n",
        "from sklearn.metrics import accuracy_score\n",
        "\n",
        "base_learners = [\n",
        "    ('decision_tree', DecisionTreeClassifier(random_state=42)),\n",
        "    ('svm', SVC(probability=True, random_state=42)),\n",
        "    ('logistic_regression', LogisticRegression(random_state=42))\n",
        "]\n",
        "\n",
        "stacking_model = StackingClassifier(estimators=base_learners, final_estimator=LogisticRegression())\n",
        "\n",
        "stacking_model.fit(X_train, y_train)\n",
        "\n",
        "y_pred_stacking = stacking_model.predict(X_test)\n",
        "\n",
        "dt_model = DecisionTreeClassifier(random_state=42)\n",
        "dt_model.fit(X_train, y_train)\n",
        "y_pred_dt = dt_model.predict(X_test)\n",
        "\n",
        "svm_model = SVC(probability=True, random_state=42)\n",
        "svm_model.fit(X_train, y_train)\n",
        "y_pred_svm = svm_model.predict(X_test)\n",
        "\n",
        "lr_model = LogisticRegression(random_state=42)\n",
        "lr_model.fit(X_train, y_train)\n",
        "y_pred_lr = lr_model.predict(X_test)\n",
        "\n",
        "accuracy_stacking = accuracy_score(y_test, y_pred_stacking)\n",
        "accuracy_dt = accuracy_score(y_test, y_pred_dt)\n",
        "accuracy_svm = accuracy_score(y_test, y_pred_svm)\n",
        "accuracy_lr = accuracy_score(y_test, y_pred_lr)\n",
        "\n",
        "print(f\"Accuracy with Stacking Classifier: {accuracy_stacking * 100:.2f}%\")\n",
        "print(f\"Accuracy with Decision Tree Classifier: {accuracy_dt * 100:.2f}%\")\n",
        "print(f\"Accuracy with SVM Classifier: {accuracy_svm * 100:.2f}%\")\n",
        "print(f\"Accuracy with Logistic Regression Classifier: {accuracy_lr * 100:.2f}%\")\n"
      ],
      "metadata": {
        "colab": {
          "base_uri": "https://localhost:8080/"
        },
        "id": "0ct_N8EryT_N",
        "outputId": "c946bbf1-fa3d-44b9-d828-c8e50cd2ca6c"
      },
      "execution_count": 14,
      "outputs": [
        {
          "output_type": "stream",
          "name": "stdout",
          "text": [
            "Accuracy with Stacking Classifier: 100.00%\n",
            "Accuracy with Decision Tree Classifier: 100.00%\n",
            "Accuracy with SVM Classifier: 100.00%\n",
            "Accuracy with Logistic Regression Classifier: 100.00%\n"
          ]
        }
      ]
    },
    {
      "cell_type": "code",
      "source": [
        "#37.Train a Random Forest Classifier and print the top 5 most important features\n",
        "from sklearn.ensemble import RandomForestClassifier\n",
        "import numpy as np\n",
        "import pandas as pd\n",
        "\n",
        "rf_model = RandomForestClassifier(random_state=42)\n",
        "rf_model.fit(X_train, y_train)\n",
        "\n",
        "feature_importances = rf_model.feature_importances_\n",
        "\n",
        "# Assuming X_train is a numpy array, create a DataFrame with dummy feature names\n",
        "features_df = pd.DataFrame({\n",
        "    'Feature': [f'Feature_{i}' for i in range(X_train.shape[1])],\n",
        "    'Importance': feature_importances\n",
        "})\n",
        "\n",
        "sorted_features = features_df.sort_values(by='Importance', ascending=False)\n",
        "\n",
        "print(f\"Top 5 Most Important Features:\\n{sorted_features.head(5)}\")\n"
      ],
      "metadata": {
        "colab": {
          "base_uri": "https://localhost:8080/"
        },
        "id": "DWoSPipdyUB6",
        "outputId": "7aec276b-b00f-429e-e176-e07ad835f975"
      },
      "execution_count": 17,
      "outputs": [
        {
          "output_type": "stream",
          "name": "stdout",
          "text": [
            "Top 5 Most Important Features:\n",
            "     Feature  Importance\n",
            "3  Feature_3    0.433982\n",
            "2  Feature_2    0.417308\n",
            "0  Feature_0    0.104105\n",
            "1  Feature_1    0.044605\n"
          ]
        }
      ]
    },
    {
      "cell_type": "code",
      "source": [
        "#38.Train a Bagging Classifier and evaluate performance using Precision, Recall, and F1-score\n",
        "from sklearn.ensemble import BaggingClassifier\n",
        "from sklearn.metrics import precision_score, recall_score, f1_score\n",
        "\n",
        "bagging_model = BaggingClassifier(n_estimators=100, random_state=42)\n",
        "bagging_model.fit(X_train, y_train)\n",
        "\n",
        "y_pred = bagging_model.predict(X_test)\n",
        "\n",
        "precision = precision_score(y_test, y_pred, average='weighted')\n",
        "recall = recall_score(y_test, y_pred, average='weighted')\n",
        "f1 = f1_score(y_test, y_pred, average='weighted')\n",
        "\n",
        "print(f\"Precision: {precision:.2f}\")\n",
        "print(f\"Recall: {recall:.2f}\")\n",
        "print(f\"F1 Score: {f1:.2f}\")\n",
        "\n"
      ],
      "metadata": {
        "colab": {
          "base_uri": "https://localhost:8080/"
        },
        "id": "wQa5GlZhyUEX",
        "outputId": "26e2eff1-911c-4e0c-9514-682853c5daae"
      },
      "execution_count": 18,
      "outputs": [
        {
          "output_type": "stream",
          "name": "stdout",
          "text": [
            "Precision: 1.00\n",
            "Recall: 1.00\n",
            "F1 Score: 1.00\n"
          ]
        }
      ]
    },
    {
      "cell_type": "code",
      "source": [
        "#39.Train a Random Forest Classifier and analyze the effect of max_depth on accuracy\n",
        "from sklearn.ensemble import RandomForestClassifier\n",
        "from sklearn.metrics import accuracy_score\n",
        "\n",
        "max_depth_values = [None, 5, 10, 20, 30]\n",
        "accuracies = []\n",
        "\n",
        "for max_depth in max_depth_values:\n",
        "    rf_model = RandomForestClassifier(max_depth=max_depth, random_state=42)\n",
        "    rf_model.fit(X_train, y_train)\n",
        "    y_pred = rf_model.predict(X_test)\n",
        "    accuracy = accuracy_score(y_test, y_pred)\n",
        "    accuracies.append(accuracy)\n",
        "\n",
        "for max_depth, accuracy in zip(max_depth_values, accuracies):\n",
        "    print(f\"Max Depth: {max_depth}, Accuracy: {accuracy * 100:.2f}%\")\n"
      ],
      "metadata": {
        "colab": {
          "base_uri": "https://localhost:8080/"
        },
        "id": "qvo71EIJyUG-",
        "outputId": "a72e38b5-cb4d-4274-aaa5-3f041dc27086"
      },
      "execution_count": 19,
      "outputs": [
        {
          "output_type": "stream",
          "name": "stdout",
          "text": [
            "Max Depth: None, Accuracy: 100.00%\n",
            "Max Depth: 5, Accuracy: 100.00%\n",
            "Max Depth: 10, Accuracy: 100.00%\n",
            "Max Depth: 20, Accuracy: 100.00%\n",
            "Max Depth: 30, Accuracy: 100.00%\n"
          ]
        }
      ]
    },
    {
      "cell_type": "code",
      "source": [
        "#40.Train a Bagging Regressor using different base estimators (DecisionTree and KNeighbors) and compare performance\n",
        "from sklearn.tree import DecisionTreeRegressor\n",
        "from sklearn.neighbors import KNeighborsRegressor\n",
        "from sklearn.ensemble import BaggingRegressor\n",
        "from sklearn.metrics import mean_squared_error\n",
        "\n",
        "bagging_dt = BaggingRegressor(DecisionTreeRegressor(), n_estimators=100, random_state=42)\n",
        "bagging_knn = BaggingRegressor(KNeighborsRegressor(), n_estimators=100, random_state=42)\n",
        "\n",
        "bagging_dt.fit(X_train, y_train)\n",
        "bagging_knn.fit(X_train, y_train)\n",
        "\n",
        "y_pred_dt = bagging_dt.predict(X_test)\n",
        "y_pred_knn = bagging_knn.predict(X_test)\n",
        "\n",
        "mse_dt = mean_squared_error(y_test, y_pred_dt)\n",
        "mse_knn = mean_squared_error(y_test, y_pred_knn)\n",
        "\n",
        "print(f\"Mean Squared Error with DecisionTree as base estimator: {mse_dt:.2f}\")\n",
        "print(f\"Mean Squared Error with KNeighbors as base estimator: {mse_knn:.2f}\")\n"
      ],
      "metadata": {
        "colab": {
          "base_uri": "https://localhost:8080/"
        },
        "id": "IB_MQH6gyUJV",
        "outputId": "83aab1ae-31e0-4d64-ff8e-3876f25b9e27"
      },
      "execution_count": 21,
      "outputs": [
        {
          "output_type": "stream",
          "name": "stdout",
          "text": [
            "Mean Squared Error with DecisionTree as base estimator: 0.00\n",
            "Mean Squared Error with KNeighbors as base estimator: 0.01\n"
          ]
        }
      ]
    },
    {
      "cell_type": "code",
      "source": [
        "#41.Train a Random Forest Classifier and evaluate its performance using ROC-AUC Score\n",
        "from sklearn.ensemble import RandomForestClassifier\n",
        "from sklearn.metrics import roc_auc_score\n",
        "from sklearn.preprocessing import label_binarize\n",
        "rf_model = RandomForestClassifier(random_state=42)\n",
        "rf_model.fit(X_train, y_train)\n",
        "\n",
        "y_pred_proba = rf_model.predict_proba(X_test)\n",
        "y_test_binarized = label_binarize(y_test, classes=rf_model.classes_)\n",
        "\n",
        "roc_auc = roc_auc_score(y_test_binarized, y_pred_proba, average='macro', multi_class='ovr')\n",
        "\n",
        "print(f\"ROC-AUC Score: {roc_auc:.2f}\")\n"
      ],
      "metadata": {
        "colab": {
          "base_uri": "https://localhost:8080/"
        },
        "id": "pDNoqKwhyUL9",
        "outputId": "42a8a16b-8e80-44c1-ac0d-000758a8212a"
      },
      "execution_count": 23,
      "outputs": [
        {
          "output_type": "stream",
          "name": "stdout",
          "text": [
            "ROC-AUC Score: 1.00\n"
          ]
        }
      ]
    },
    {
      "cell_type": "code",
      "source": [
        "#42.Train a Bagging Classifier and evaluate its performance using cross-validatio.from sklearn.ensemble import BaggingClassifier\n",
        "from sklearn.model_selection import cross_val_score\n",
        "\n",
        "bagging_model = BaggingClassifier(n_estimators=100, random_state=42)\n",
        "\n",
        "cv_scores = cross_val_score(bagging_model, X_train, y_train, cv=5, scoring='accuracy')\n",
        "\n",
        "print(f\"Cross-validation scores: {cv_scores}\")\n",
        "print(f\"Mean cross-validation accuracy: {cv_scores.mean():.2f}\")\n",
        "\n"
      ],
      "metadata": {
        "colab": {
          "base_uri": "https://localhost:8080/"
        },
        "id": "gANexfLcyUOV",
        "outputId": "847705d8-6547-46d9-8035-e7d2da86ebfb"
      },
      "execution_count": 24,
      "outputs": [
        {
          "output_type": "stream",
          "name": "stdout",
          "text": [
            "Cross-validation scores: [0.95238095 0.9047619  0.9047619  1.         0.95238095]\n",
            "Mean cross-validation accuracy: 0.94\n"
          ]
        }
      ]
    },
    {
      "cell_type": "code",
      "source": [
        "#43.Train a Random Forest Classifier and plot the Precision-Recall curv\n",
        "from sklearn.ensemble import RandomForestClassifier\n",
        "from sklearn.metrics import precision_recall_curve\n",
        "from sklearn.preprocessing import label_binarize\n",
        "import matplotlib.pyplot as plt\n",
        "rf_model = RandomForestClassifier(random_state=42)\n",
        "rf_model.fit(X_train, y_train)\n",
        "\n",
        "y_pred_proba = rf_model.predict_proba(X_test)\n",
        "\n",
        "y_test_binarized = label_binarize(y_test, classes=rf_model.classes_)\n",
        "\n",
        "plt.figure(figsize=(8, 6))\n",
        "\n",
        "for i in range(y_test_binarized.shape[1]):\n",
        "    precision, recall, _ = precision_recall_curve(y_test_binarized[:, i], y_pred_proba[:, i])\n",
        "    plt.plot(recall, precision, label=f'Class {rf_model.classes_[i]}')\n",
        "\n",
        "plt.xlabel('Recall')\n",
        "plt.ylabel('Precision')\n",
        "plt.title('Precision-Recall Curves for Random Forest Classifier')\n",
        "plt.legend()\n",
        "plt.show()\n"
      ],
      "metadata": {
        "colab": {
          "base_uri": "https://localhost:8080/",
          "height": 564
        },
        "id": "P-wrZLYQyUQ2",
        "outputId": "492d00a7-e2ea-4337-a3d4-f3f782deada0"
      },
      "execution_count": 26,
      "outputs": [
        {
          "output_type": "display_data",
          "data": {
            "text/plain": [
              "<Figure size 800x600 with 1 Axes>"
            ],
            "image/png": "[encoded data removed]"
          },
          "metadata": {}
        }
      ]
    },
    {
      "cell_type": "code",
      "source": [
        "#44.Train a Stacking Classifier with Random Forest and Logistic Regression and compare accuracy\n",
        "from sklearn.ensemble import StackingClassifier\n",
        "from sklearn.ensemble import RandomForestClassifier\n",
        "from sklearn.linear_model import LogisticRegression\n",
        "from sklearn.metrics import accuracy_score\n",
        "\n",
        "base_learners = [\n",
        "    ('random_forest', RandomForestClassifier(random_state=42)),\n",
        "    ('logistic_regression', LogisticRegression(random_state=42))\n",
        "]\n",
        "\n",
        "stacking_model = StackingClassifier(estimators=base_learners, final_estimator=LogisticRegression())\n",
        "\n",
        "stacking_model.fit(X_train, y_train)\n",
        "\n",
        "y_pred_stacking = stacking_model.predict(X_test)\n",
        "\n",
        "rf_model = RandomForestClassifier(random_state=42)\n",
        "rf_model.fit(X_train, y_train)\n",
        "y_pred_rf = rf_model.predict(X_test)\n",
        "\n",
        "lr_model = LogisticRegression(random_state=42)\n",
        "lr_model.fit(X_train, y_train)\n",
        "y_pred_lr = lr_model.predict(X_test)\n",
        "\n",
        "accuracy_stacking = accuracy_score(y_test, y_pred_stacking)\n",
        "accuracy_rf = accuracy_score(y_test, y_pred_rf)\n",
        "accuracy_lr = accuracy_score(y_test, y_pred_lr)\n",
        "\n",
        "print(f\"Accuracy with Stacking Classifier: {accuracy_stacking * 100:.2f}%\")\n",
        "print(f\"Accuracy with Random Forest Classifier: {accuracy_rf * 100:.2f}%\")\n",
        "print(f\"Accuracy with Logistic Regression Classifier: {accuracy_lr * 100:.2f}%\")\n",
        "\n"
      ],
      "metadata": {
        "colab": {
          "base_uri": "https://localhost:8080/"
        },
        "id": "_hQBEM4RyUTX",
        "outputId": "61159e1c-8a6f-4e0a-eee6-afc50ffcf013"
      },
      "execution_count": 27,
      "outputs": [
        {
          "output_type": "stream",
          "name": "stdout",
          "text": [
            "Accuracy with Stacking Classifier: 100.00%\n",
            "Accuracy with Random Forest Classifier: 100.00%\n",
            "Accuracy with Logistic Regression Classifier: 100.00%\n"
          ]
        }
      ]
    },
    {
      "cell_type": "code",
      "source": [
        "#45.Train a Bagging Regressor with different levels of bootstrap samples and compare performance.\n",
        "from sklearn.ensemble import BaggingRegressor\n",
        "from sklearn.tree import DecisionTreeRegressor\n",
        "from sklearn.metrics import mean_squared_error\n",
        "\n",
        "bootstrap_samples = [0.5, 0.7, 1.0]\n",
        "mse_scores = []\n",
        "\n",
        "for bootstrap in bootstrap_samples:\n",
        "    bagging_model = BaggingRegressor(DecisionTreeRegressor(),\n",
        "                                    n_estimators=100,\n",
        "                                    max_samples=bootstrap,\n",
        "                                    random_state=42)\n",
        "    bagging_model.fit(X_train, y_train)\n",
        "    y_pred = bagging_model.predict(X_test)\n",
        "    mse = mean_squared_error(y_test, y_pred)\n",
        "    mse_scores.append(mse)\n",
        "\n",
        "for bootstrap, mse in zip(bootstrap_samples, mse_scores):\n",
        "    print(f\"Bootstrap Sample Size: {bootstrap}, Mean Squared Error: {mse:.2f}\")\n"
      ],
      "metadata": {
        "colab": {
          "base_uri": "https://localhost:8080/"
        },
        "id": "8g-Msq-vyUVb",
        "outputId": "d5e91423-15e9-46a1-d655-c918ccae2b68"
      },
      "execution_count": 29,
      "outputs": [
        {
          "output_type": "stream",
          "name": "stdout",
          "text": [
            "Bootstrap Sample Size: 0.5, Mean Squared Error: 0.00\n",
            "Bootstrap Sample Size: 0.7, Mean Squared Error: 0.00\n",
            "Bootstrap Sample Size: 1.0, Mean Squared Error: 0.00\n"
          ]
        }
      ]
    },
    {
      "cell_type": "code",
      "source": [],
      "metadata": {
        "id": "hgW3JHQQyUYy"
      },
      "execution_count": null,
      "outputs": []
    }
  ]
}